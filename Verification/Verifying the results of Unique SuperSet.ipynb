{
 "cells": [
  {
   "cell_type": "markdown",
   "metadata": {},
   "source": [
    "# Verifying the results of Unique SuperSet in Spark"
   ]
  },
  {
   "cell_type": "code",
   "execution_count": 1,
   "metadata": {},
   "outputs": [],
   "source": [
    "import numpy as np\n",
    "import pandas as pd\n",
    "import copy"
   ]
  },
  {
   "cell_type": "code",
   "execution_count": 2,
   "metadata": {},
   "outputs": [],
   "source": [
    "row_items = []\n",
    "with open(\"testInp.txt\") as f_1:\n",
    "    for line in f_1:\n",
    "        row_items.append(line.strip(\"\\n\").split(\"\\t\")[1].replace(\",\",\" \"))"
   ]
  },
  {
   "cell_type": "code",
   "execution_count": 3,
   "metadata": {},
   "outputs": [],
   "source": [
    "row_items_df = pd.DataFrame(row_items, columns=[\"Trans\"])"
   ]
  },
  {
   "cell_type": "code",
   "execution_count": 4,
   "metadata": {},
   "outputs": [],
   "source": [
    "with open(\"testInp_n.txt\", \"w+\") as f_2:\n",
    "    for x in row_items:\n",
    "        f_2.write(x+\"\\n\")"
   ]
  },
  {
   "cell_type": "markdown",
   "metadata": {},
   "source": [
    "## Finding Unique SuperSet Trans"
   ]
  },
  {
   "cell_type": "code",
   "execution_count": 5,
   "metadata": {
    "scrolled": false
   },
   "outputs": [],
   "source": [
    "n = len(row_items)\n",
    "\n",
    "unique_SS = []\n",
    "\n",
    "for i in range(n):\n",
    "    temp_1 = set(row_items[i].split(\" \"))\n",
    "    # print(\"temp_1: \", temp_1)\n",
    "    flag = True\n",
    "    temp_uss = copy.deepcopy(unique_SS)\n",
    "    for temp_2 in temp_uss:\n",
    "        #temp_2 = set(temp_uss[j].split(\" \"))\n",
    "        # print(\"temp_2: \", temp_2)\n",
    "        if temp_1 == temp_2 or temp_1.issubset(temp_2):\n",
    "            # print(\"In Condition 1\")\n",
    "            flag = False\n",
    "            break\n",
    "        elif temp_2.issubset(temp_1):\n",
    "            # print(\"In Condition 2\")\n",
    "            unique_SS.remove(temp_2)          \n",
    "            # break\n",
    "        else:\n",
    "            continue\n",
    "    if flag:\n",
    "        unique_SS.append(temp_1)\n",
    "        \n",
    "        #temp = \"\"\n",
    "        #for y in sorted(list(map(int,list(temp_1)))):\n",
    "        #    temp+=str(y)+\" \"\n",
    "        #unique_SS.append(temp.strip(\" \"))\n",
    "    # print(unique_SS)\n"
   ]
  },
  {
   "cell_type": "code",
   "execution_count": 6,
   "metadata": {},
   "outputs": [
    {
     "data": {
      "text/plain": [
       "16"
      ]
     },
     "execution_count": 6,
     "metadata": {},
     "output_type": "execute_result"
    }
   ],
   "source": [
    "len(unique_SS)"
   ]
  },
  {
   "cell_type": "code",
   "execution_count": 7,
   "metadata": {},
   "outputs": [],
   "source": [
    "unique_SS = [\" \".join(sorted(list(s))) for s in unique_SS]"
   ]
  },
  {
   "cell_type": "code",
   "execution_count": 8,
   "metadata": {},
   "outputs": [
    {
     "data": {
      "text/plain": [
       "['200 202 203 204 205 206 207 208 218 219 220',\n",
       " '203 204 205 206 207 208 209 213 216',\n",
       " '204 205 206 207 208 209 210',\n",
       " '205 206 207 208 209 210 211',\n",
       " '203 204 205 206 207 208 209 212 216 218',\n",
       " '201 202 203 204 205 206 207 211 218 219 220',\n",
       " '200 201 202 203 204 205 206 211',\n",
       " '200 202 204 206 208 211 212 213 214',\n",
       " '203 204 211 212 213 214 215 216 217 218 219 220',\n",
       " '206 207 209 212 213 214 215 216',\n",
       " '201 206 207 209 215 216 217 218 219 220',\n",
       " '201 202 203 209 215 216',\n",
       " '203 205 207 209 211 213 215 217',\n",
       " '207 209 211 213 216 218 219 220',\n",
       " '202 204 206 208 210',\n",
       " '210 212 214 216 218']"
      ]
     },
     "execution_count": 8,
     "metadata": {},
     "output_type": "execute_result"
    }
   ],
   "source": [
    "unique_SS"
   ]
  },
  {
   "cell_type": "code",
   "execution_count": 9,
   "metadata": {},
   "outputs": [],
   "source": [
    "unique_SS_df = pd.DataFrame(unique_SS, columns=[\"CodeUnique_SS\"])"
   ]
  },
  {
   "cell_type": "code",
   "execution_count": 10,
   "metadata": {},
   "outputs": [
    {
     "data": {
      "text/html": [
       "<div>\n",
       "<style scoped>\n",
       "    .dataframe tbody tr th:only-of-type {\n",
       "        vertical-align: middle;\n",
       "    }\n",
       "\n",
       "    .dataframe tbody tr th {\n",
       "        vertical-align: top;\n",
       "    }\n",
       "\n",
       "    .dataframe thead th {\n",
       "        text-align: right;\n",
       "    }\n",
       "</style>\n",
       "<table border=\"1\" class=\"dataframe\">\n",
       "  <thead>\n",
       "    <tr style=\"text-align: right;\">\n",
       "      <th></th>\n",
       "      <th>CodeUnique_SS</th>\n",
       "    </tr>\n",
       "  </thead>\n",
       "  <tbody>\n",
       "    <tr>\n",
       "      <th>0</th>\n",
       "      <td>200 202 203 204 205 206 207 208 218 219 220</td>\n",
       "    </tr>\n",
       "    <tr>\n",
       "      <th>1</th>\n",
       "      <td>203 204 205 206 207 208 209 213 216</td>\n",
       "    </tr>\n",
       "    <tr>\n",
       "      <th>2</th>\n",
       "      <td>204 205 206 207 208 209 210</td>\n",
       "    </tr>\n",
       "    <tr>\n",
       "      <th>3</th>\n",
       "      <td>205 206 207 208 209 210 211</td>\n",
       "    </tr>\n",
       "    <tr>\n",
       "      <th>4</th>\n",
       "      <td>203 204 205 206 207 208 209 212 216 218</td>\n",
       "    </tr>\n",
       "    <tr>\n",
       "      <th>5</th>\n",
       "      <td>201 202 203 204 205 206 207 211 218 219 220</td>\n",
       "    </tr>\n",
       "    <tr>\n",
       "      <th>6</th>\n",
       "      <td>200 201 202 203 204 205 206 211</td>\n",
       "    </tr>\n",
       "    <tr>\n",
       "      <th>7</th>\n",
       "      <td>200 202 204 206 208 211 212 213 214</td>\n",
       "    </tr>\n",
       "    <tr>\n",
       "      <th>8</th>\n",
       "      <td>203 204 211 212 213 214 215 216 217 218 219 220</td>\n",
       "    </tr>\n",
       "    <tr>\n",
       "      <th>9</th>\n",
       "      <td>206 207 209 212 213 214 215 216</td>\n",
       "    </tr>\n",
       "    <tr>\n",
       "      <th>10</th>\n",
       "      <td>201 206 207 209 215 216 217 218 219 220</td>\n",
       "    </tr>\n",
       "    <tr>\n",
       "      <th>11</th>\n",
       "      <td>201 202 203 209 215 216</td>\n",
       "    </tr>\n",
       "    <tr>\n",
       "      <th>12</th>\n",
       "      <td>203 205 207 209 211 213 215 217</td>\n",
       "    </tr>\n",
       "    <tr>\n",
       "      <th>13</th>\n",
       "      <td>207 209 211 213 216 218 219 220</td>\n",
       "    </tr>\n",
       "    <tr>\n",
       "      <th>14</th>\n",
       "      <td>202 204 206 208 210</td>\n",
       "    </tr>\n",
       "    <tr>\n",
       "      <th>15</th>\n",
       "      <td>210 212 214 216 218</td>\n",
       "    </tr>\n",
       "  </tbody>\n",
       "</table>\n",
       "</div>"
      ],
      "text/plain": [
       "                                      CodeUnique_SS\n",
       "0       200 202 203 204 205 206 207 208 218 219 220\n",
       "1               203 204 205 206 207 208 209 213 216\n",
       "2                       204 205 206 207 208 209 210\n",
       "3                       205 206 207 208 209 210 211\n",
       "4           203 204 205 206 207 208 209 212 216 218\n",
       "5       201 202 203 204 205 206 207 211 218 219 220\n",
       "6                   200 201 202 203 204 205 206 211\n",
       "7               200 202 204 206 208 211 212 213 214\n",
       "8   203 204 211 212 213 214 215 216 217 218 219 220\n",
       "9                   206 207 209 212 213 214 215 216\n",
       "10          201 206 207 209 215 216 217 218 219 220\n",
       "11                          201 202 203 209 215 216\n",
       "12                  203 205 207 209 211 213 215 217\n",
       "13                  207 209 211 213 216 218 219 220\n",
       "14                              202 204 206 208 210\n",
       "15                              210 212 214 216 218"
      ]
     },
     "execution_count": 10,
     "metadata": {},
     "output_type": "execute_result"
    }
   ],
   "source": [
    "unique_SS_df"
   ]
  },
  {
   "cell_type": "markdown",
   "metadata": {},
   "source": [
    "## Importing the results of uniqueSuperSets results from Spark"
   ]
  },
  {
   "cell_type": "code",
   "execution_count": 11,
   "metadata": {},
   "outputs": [],
   "source": [
    "spark_res = pd.read_csv(\"testInp_USS.csv\", header=None, names=[\"SparkUnique_SS\"])"
   ]
  },
  {
   "cell_type": "code",
   "execution_count": 12,
   "metadata": {},
   "outputs": [
    {
     "data": {
      "text/html": [
       "<div>\n",
       "<style scoped>\n",
       "    .dataframe tbody tr th:only-of-type {\n",
       "        vertical-align: middle;\n",
       "    }\n",
       "\n",
       "    .dataframe tbody tr th {\n",
       "        vertical-align: top;\n",
       "    }\n",
       "\n",
       "    .dataframe thead th {\n",
       "        text-align: right;\n",
       "    }\n",
       "</style>\n",
       "<table border=\"1\" class=\"dataframe\">\n",
       "  <thead>\n",
       "    <tr style=\"text-align: right;\">\n",
       "      <th></th>\n",
       "      <th>SparkUnique_SS</th>\n",
       "    </tr>\n",
       "  </thead>\n",
       "  <tbody>\n",
       "    <tr>\n",
       "      <th>0</th>\n",
       "      <td>206 207 209 212 213 214 215 216</td>\n",
       "    </tr>\n",
       "    <tr>\n",
       "      <th>1</th>\n",
       "      <td>201 202 203 209 215 216</td>\n",
       "    </tr>\n",
       "    <tr>\n",
       "      <th>2</th>\n",
       "      <td>210 212 214 216 218</td>\n",
       "    </tr>\n",
       "    <tr>\n",
       "      <th>3</th>\n",
       "      <td>202 204 206 208 210</td>\n",
       "    </tr>\n",
       "    <tr>\n",
       "      <th>4</th>\n",
       "      <td>205 206 207 208 209 210 211</td>\n",
       "    </tr>\n",
       "    <tr>\n",
       "      <th>5</th>\n",
       "      <td>203 205 207 209 211 213 215 217</td>\n",
       "    </tr>\n",
       "    <tr>\n",
       "      <th>6</th>\n",
       "      <td>200 202 203 204 205 206 207 208 218 219 220</td>\n",
       "    </tr>\n",
       "    <tr>\n",
       "      <th>7</th>\n",
       "      <td>200 202 204 206 208 211 212 213 214</td>\n",
       "    </tr>\n",
       "    <tr>\n",
       "      <th>8</th>\n",
       "      <td>203 204 205 206 207 208 209 212 216 218</td>\n",
       "    </tr>\n",
       "    <tr>\n",
       "      <th>9</th>\n",
       "      <td>204 205 206 207 208 209 210</td>\n",
       "    </tr>\n",
       "    <tr>\n",
       "      <th>10</th>\n",
       "      <td>201 202 203 204 205 206 207 211 218 219 220</td>\n",
       "    </tr>\n",
       "    <tr>\n",
       "      <th>11</th>\n",
       "      <td>203 204 205 206 207 208 209 213 216</td>\n",
       "    </tr>\n",
       "    <tr>\n",
       "      <th>12</th>\n",
       "      <td>203 204 211 212 213 214 215 216 217 218 219 220</td>\n",
       "    </tr>\n",
       "    <tr>\n",
       "      <th>13</th>\n",
       "      <td>201 206 207 209 215 216 217 218 219 220</td>\n",
       "    </tr>\n",
       "    <tr>\n",
       "      <th>14</th>\n",
       "      <td>207 209 211 213 216 218 219 220</td>\n",
       "    </tr>\n",
       "    <tr>\n",
       "      <th>15</th>\n",
       "      <td>200 201 202 203 204 205 206 211</td>\n",
       "    </tr>\n",
       "  </tbody>\n",
       "</table>\n",
       "</div>"
      ],
      "text/plain": [
       "                                     SparkUnique_SS\n",
       "0                   206 207 209 212 213 214 215 216\n",
       "1                           201 202 203 209 215 216\n",
       "2                               210 212 214 216 218\n",
       "3                               202 204 206 208 210\n",
       "4                       205 206 207 208 209 210 211\n",
       "5                   203 205 207 209 211 213 215 217\n",
       "6       200 202 203 204 205 206 207 208 218 219 220\n",
       "7               200 202 204 206 208 211 212 213 214\n",
       "8           203 204 205 206 207 208 209 212 216 218\n",
       "9                       204 205 206 207 208 209 210\n",
       "10      201 202 203 204 205 206 207 211 218 219 220\n",
       "11              203 204 205 206 207 208 209 213 216\n",
       "12  203 204 211 212 213 214 215 216 217 218 219 220\n",
       "13          201 206 207 209 215 216 217 218 219 220\n",
       "14                  207 209 211 213 216 218 219 220\n",
       "15                  200 201 202 203 204 205 206 211"
      ]
     },
     "execution_count": 12,
     "metadata": {},
     "output_type": "execute_result"
    }
   ],
   "source": [
    "spark_res"
   ]
  },
  {
   "cell_type": "markdown",
   "metadata": {},
   "source": [
    "## Comparing both the results"
   ]
  },
  {
   "cell_type": "code",
   "execution_count": 13,
   "metadata": {},
   "outputs": [],
   "source": [
    "merged_df = pd.merge(unique_SS_df, spark_res, how=\"inner\", left_on=\"CodeUnique_SS\", right_on=\"SparkUnique_SS\")"
   ]
  },
  {
   "cell_type": "code",
   "execution_count": 14,
   "metadata": {},
   "outputs": [
    {
     "data": {
      "text/html": [
       "<div>\n",
       "<style scoped>\n",
       "    .dataframe tbody tr th:only-of-type {\n",
       "        vertical-align: middle;\n",
       "    }\n",
       "\n",
       "    .dataframe tbody tr th {\n",
       "        vertical-align: top;\n",
       "    }\n",
       "\n",
       "    .dataframe thead th {\n",
       "        text-align: right;\n",
       "    }\n",
       "</style>\n",
       "<table border=\"1\" class=\"dataframe\">\n",
       "  <thead>\n",
       "    <tr style=\"text-align: right;\">\n",
       "      <th></th>\n",
       "      <th>CodeUnique_SS</th>\n",
       "      <th>SparkUnique_SS</th>\n",
       "    </tr>\n",
       "  </thead>\n",
       "  <tbody>\n",
       "    <tr>\n",
       "      <th>0</th>\n",
       "      <td>200 202 203 204 205 206 207 208 218 219 220</td>\n",
       "      <td>200 202 203 204 205 206 207 208 218 219 220</td>\n",
       "    </tr>\n",
       "    <tr>\n",
       "      <th>1</th>\n",
       "      <td>203 204 205 206 207 208 209 213 216</td>\n",
       "      <td>203 204 205 206 207 208 209 213 216</td>\n",
       "    </tr>\n",
       "    <tr>\n",
       "      <th>2</th>\n",
       "      <td>204 205 206 207 208 209 210</td>\n",
       "      <td>204 205 206 207 208 209 210</td>\n",
       "    </tr>\n",
       "    <tr>\n",
       "      <th>3</th>\n",
       "      <td>205 206 207 208 209 210 211</td>\n",
       "      <td>205 206 207 208 209 210 211</td>\n",
       "    </tr>\n",
       "    <tr>\n",
       "      <th>4</th>\n",
       "      <td>203 204 205 206 207 208 209 212 216 218</td>\n",
       "      <td>203 204 205 206 207 208 209 212 216 218</td>\n",
       "    </tr>\n",
       "    <tr>\n",
       "      <th>5</th>\n",
       "      <td>201 202 203 204 205 206 207 211 218 219 220</td>\n",
       "      <td>201 202 203 204 205 206 207 211 218 219 220</td>\n",
       "    </tr>\n",
       "    <tr>\n",
       "      <th>6</th>\n",
       "      <td>200 201 202 203 204 205 206 211</td>\n",
       "      <td>200 201 202 203 204 205 206 211</td>\n",
       "    </tr>\n",
       "    <tr>\n",
       "      <th>7</th>\n",
       "      <td>200 202 204 206 208 211 212 213 214</td>\n",
       "      <td>200 202 204 206 208 211 212 213 214</td>\n",
       "    </tr>\n",
       "    <tr>\n",
       "      <th>8</th>\n",
       "      <td>203 204 211 212 213 214 215 216 217 218 219 220</td>\n",
       "      <td>203 204 211 212 213 214 215 216 217 218 219 220</td>\n",
       "    </tr>\n",
       "    <tr>\n",
       "      <th>9</th>\n",
       "      <td>206 207 209 212 213 214 215 216</td>\n",
       "      <td>206 207 209 212 213 214 215 216</td>\n",
       "    </tr>\n",
       "    <tr>\n",
       "      <th>10</th>\n",
       "      <td>201 206 207 209 215 216 217 218 219 220</td>\n",
       "      <td>201 206 207 209 215 216 217 218 219 220</td>\n",
       "    </tr>\n",
       "    <tr>\n",
       "      <th>11</th>\n",
       "      <td>201 202 203 209 215 216</td>\n",
       "      <td>201 202 203 209 215 216</td>\n",
       "    </tr>\n",
       "    <tr>\n",
       "      <th>12</th>\n",
       "      <td>203 205 207 209 211 213 215 217</td>\n",
       "      <td>203 205 207 209 211 213 215 217</td>\n",
       "    </tr>\n",
       "    <tr>\n",
       "      <th>13</th>\n",
       "      <td>207 209 211 213 216 218 219 220</td>\n",
       "      <td>207 209 211 213 216 218 219 220</td>\n",
       "    </tr>\n",
       "    <tr>\n",
       "      <th>14</th>\n",
       "      <td>202 204 206 208 210</td>\n",
       "      <td>202 204 206 208 210</td>\n",
       "    </tr>\n",
       "    <tr>\n",
       "      <th>15</th>\n",
       "      <td>210 212 214 216 218</td>\n",
       "      <td>210 212 214 216 218</td>\n",
       "    </tr>\n",
       "  </tbody>\n",
       "</table>\n",
       "</div>"
      ],
      "text/plain": [
       "                                      CodeUnique_SS  \\\n",
       "0       200 202 203 204 205 206 207 208 218 219 220   \n",
       "1               203 204 205 206 207 208 209 213 216   \n",
       "2                       204 205 206 207 208 209 210   \n",
       "3                       205 206 207 208 209 210 211   \n",
       "4           203 204 205 206 207 208 209 212 216 218   \n",
       "5       201 202 203 204 205 206 207 211 218 219 220   \n",
       "6                   200 201 202 203 204 205 206 211   \n",
       "7               200 202 204 206 208 211 212 213 214   \n",
       "8   203 204 211 212 213 214 215 216 217 218 219 220   \n",
       "9                   206 207 209 212 213 214 215 216   \n",
       "10          201 206 207 209 215 216 217 218 219 220   \n",
       "11                          201 202 203 209 215 216   \n",
       "12                  203 205 207 209 211 213 215 217   \n",
       "13                  207 209 211 213 216 218 219 220   \n",
       "14                              202 204 206 208 210   \n",
       "15                              210 212 214 216 218   \n",
       "\n",
       "                                     SparkUnique_SS  \n",
       "0       200 202 203 204 205 206 207 208 218 219 220  \n",
       "1               203 204 205 206 207 208 209 213 216  \n",
       "2                       204 205 206 207 208 209 210  \n",
       "3                       205 206 207 208 209 210 211  \n",
       "4           203 204 205 206 207 208 209 212 216 218  \n",
       "5       201 202 203 204 205 206 207 211 218 219 220  \n",
       "6                   200 201 202 203 204 205 206 211  \n",
       "7               200 202 204 206 208 211 212 213 214  \n",
       "8   203 204 211 212 213 214 215 216 217 218 219 220  \n",
       "9                   206 207 209 212 213 214 215 216  \n",
       "10          201 206 207 209 215 216 217 218 219 220  \n",
       "11                          201 202 203 209 215 216  \n",
       "12                  203 205 207 209 211 213 215 217  \n",
       "13                  207 209 211 213 216 218 219 220  \n",
       "14                              202 204 206 208 210  \n",
       "15                              210 212 214 216 218  "
      ]
     },
     "execution_count": 14,
     "metadata": {},
     "output_type": "execute_result"
    }
   ],
   "source": [
    "merged_df"
   ]
  },
  {
   "cell_type": "code",
   "execution_count": null,
   "metadata": {},
   "outputs": [],
   "source": []
  }
 ],
 "metadata": {
  "kernelspec": {
   "display_name": "Python 3",
   "language": "python",
   "name": "python3"
  },
  "language_info": {
   "codemirror_mode": {
    "name": "ipython",
    "version": 3
   },
   "file_extension": ".py",
   "mimetype": "text/x-python",
   "name": "python",
   "nbconvert_exporter": "python",
   "pygments_lexer": "ipython3",
   "version": "3.7.4"
  }
 },
 "nbformat": 4,
 "nbformat_minor": 2
}
